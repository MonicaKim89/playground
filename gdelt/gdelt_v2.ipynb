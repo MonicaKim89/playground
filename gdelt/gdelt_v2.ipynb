{
 "cells": [
  {
   "cell_type": "code",
   "execution_count": 11,
   "metadata": {},
   "outputs": [
    {
     "name": "stdout",
     "output_type": "stream",
     "text": [
      "C:\\Users\\yukir\\Documents\\Monicas_workspace\\gdelt_extrac\\KAZ_RUS\n"
     ]
    }
   ],
   "source": [
    "%cd C:\\Users\\yukir\\Documents\\Monicas_workspace\\gdelt_extrac\\KAZ_RUS"
   ]
  },
  {
   "cell_type": "code",
   "execution_count": 76,
   "metadata": {},
   "outputs": [
    {
     "name": "stdout",
     "output_type": "stream",
     "text": [
      "C:\\Users\\yukir\\Documents\\Monicas_workspace\\gdelt_extrac\n"
     ]
    }
   ],
   "source": [
    "%cd C:\\Users\\yukir\\Documents\\Monicas_workspace\\gdelt_extrac"
   ]
  },
  {
   "cell_type": "code",
   "execution_count": 113,
   "metadata": {},
   "outputs": [],
   "source": [
    "import gdelt\n",
    "\n",
    "gd = gdelt.gdelt(version=2)\n",
    "\n",
    "results = gd.Search(['2022 01 01','2022 01 31'],table='events',coverage=True,translation=False) #날짜 지정하기, 15일내로()\n",
    "\n",
    "data = results.copy()\n",
    "data = data[['GLOBALEVENTID', 'SQLDATE', 'Actor1Code', 'Actor2Code', 'AvgTone','GoldsteinScale', 'CAMEOCodeDescription','NumArticles']]\n",
    "cond = ['BLR', 'UKR']\n",
    "data = data[data['Actor1Code'].isin(set(cond))]\n",
    "data = data[data['Actor2Code'].isin(set(cond))]\n",
    "value_list = data.values.tolist()\n",
    "\n",
    "f = open('BLRgdelt_220101_220131.txt', 'w') #저장할 파일명 변경\n",
    "for i in value_list:\n",
    "    i = str(i)\n",
    "    f.write(i+'\\n')\n",
    "f.close()"
   ]
  },
  {
   "cell_type": "code",
   "execution_count": 114,
   "metadata": {},
   "outputs": [],
   "source": [
    "import gdelt\n",
    "\n",
    "gd = gdelt.gdelt(version=2)\n",
    "\n",
    "results = gd.Search(['2022 02 01','2022 02 28'],table='events',coverage=True,translation=False) #날짜 지정하기, 15일내로()\n",
    "\n",
    "data = results.copy()\n",
    "data = data[['GLOBALEVENTID', 'SQLDATE', 'Actor1Code', 'Actor2Code', 'AvgTone','GoldsteinScale', 'CAMEOCodeDescription','NumArticles']]\n",
    "cond = ['BLR', 'UKR']\n",
    "data = data[data['Actor1Code'].isin(set(cond))]\n",
    "data = data[data['Actor2Code'].isin(set(cond))]\n",
    "value_list = data.values.tolist()\n",
    "\n",
    "f = open('BLRgdelt_220201_220228.txt', 'w') #저장할 파일명 변경\n",
    "for i in value_list:\n",
    "    i = str(i)\n",
    "    f.write(i+'\\n')\n",
    "f.close()"
   ]
  },
  {
   "cell_type": "code",
   "execution_count": 115,
   "metadata": {},
   "outputs": [],
   "source": [
    "import gdelt\n",
    "\n",
    "gd = gdelt.gdelt(version=2)\n",
    "\n",
    "results = gd.Search(['2022 03 01','2022 03 31'],table='events',coverage=True,translation=False) #날짜 지정하기, 15일내로()\n",
    "\n",
    "data = results.copy()\n",
    "data = data[['GLOBALEVENTID', 'SQLDATE', 'Actor1Code', 'Actor2Code', 'AvgTone','GoldsteinScale', 'CAMEOCodeDescription','NumArticles']]\n",
    "cond = ['BLR', 'UKR']\n",
    "data = data[data['Actor1Code'].isin(set(cond))]\n",
    "data = data[data['Actor2Code'].isin(set(cond))]\n",
    "value_list = data.values.tolist()\n",
    "\n",
    "f = open('BLRgdelt_220301_220331.txt', 'w') #저장할 파일명 변경\n",
    "for i in value_list:\n",
    "    i = str(i)\n",
    "    f.write(i+'\\n')\n",
    "f.close()"
   ]
  },
  {
   "cell_type": "code",
   "execution_count": 116,
   "metadata": {},
   "outputs": [],
   "source": [
    "import gdelt\n",
    "\n",
    "gd = gdelt.gdelt(version=2)\n",
    "\n",
    "results = gd.Search(['2022 04 01','2022 04 30'],table='events',coverage=True,translation=False) #날짜 지정하기, 15일내로()\n",
    "\n",
    "data = results.copy()\n",
    "data = data[['GLOBALEVENTID', 'SQLDATE', 'Actor1Code', 'Actor2Code', 'AvgTone','GoldsteinScale', 'CAMEOCodeDescription','NumArticles']]\n",
    "cond = ['BLR', 'UKR']\n",
    "data = data[data['Actor1Code'].isin(set(cond))]\n",
    "data = data[data['Actor2Code'].isin(set(cond))]\n",
    "value_list = data.values.tolist()\n",
    "\n",
    "f = open('BLRgdelt_220401_220430.txt', 'w') #저장할 파일명 변경\n",
    "for i in value_list:\n",
    "    i = str(i)\n",
    "    f.write(i+'\\n')\n",
    "f.close()"
   ]
  },
  {
   "cell_type": "code",
   "execution_count": 117,
   "metadata": {},
   "outputs": [],
   "source": [
    "import gdelt\n",
    "\n",
    "gd = gdelt.gdelt(version=2)\n",
    "\n",
    "results = gd.Search(['2022 05 01','2022 05 31'],table='events',coverage=True,translation=False) #날짜 지정하기, 15일내로()\n",
    "\n",
    "data = results.copy()\n",
    "data = data[['GLOBALEVENTID', 'SQLDATE', 'Actor1Code', 'Actor2Code', 'AvgTone','GoldsteinScale', 'CAMEOCodeDescription','NumArticles']]\n",
    "cond = ['BLR', 'UKR']\n",
    "data = data[data['Actor1Code'].isin(set(cond))]\n",
    "data = data[data['Actor2Code'].isin(set(cond))]\n",
    "value_list = data.values.tolist()\n",
    "\n",
    "f = open('BLRgdelt_220501_220531.txt', 'w') #저장할 파일명 변경\n",
    "for i in value_list:\n",
    "    i = str(i)\n",
    "    f.write(i+'\\n')\n",
    "f.close()"
   ]
  },
  {
   "cell_type": "code",
   "execution_count": 118,
   "metadata": {},
   "outputs": [],
   "source": [
    "import gdelt\n",
    "\n",
    "gd = gdelt.gdelt(version=2)\n",
    "\n",
    "results = gd.Search(['2022 06 01','2022 06 30'],table='events',coverage=True,translation=False) #날짜 지정하기, 15일내로()\n",
    "\n",
    "data = results.copy()\n",
    "data = data[['GLOBALEVENTID', 'SQLDATE', 'Actor1Code', 'Actor2Code', 'AvgTone','GoldsteinScale', 'CAMEOCodeDescription','NumArticles']]\n",
    "cond = ['BLR', 'UKR']\n",
    "data = data[data['Actor1Code'].isin(set(cond))]\n",
    "data = data[data['Actor2Code'].isin(set(cond))]\n",
    "value_list = data.values.tolist()\n",
    "\n",
    "f = open('BLRgdelt_220601_220630.txt', 'w') #저장할 파일명 변경\n",
    "for i in value_list:\n",
    "    i = str(i)\n",
    "    f.write(i+'\\n')\n",
    "f.close()"
   ]
  },
  {
   "cell_type": "code",
   "execution_count": 108,
   "metadata": {},
   "outputs": [],
   "source": [
    "import gdelt\n",
    "\n",
    "gd = gdelt.gdelt(version=2)\n",
    "\n",
    "results = gd.Search(['2021 07 01','2021 07 31'],table='events',coverage=True,translation=False) #날짜 지정하기, 15일내로()\n",
    "\n",
    "data = results.copy()\n",
    "data = data[['GLOBALEVENTID', 'SQLDATE', 'Actor1Code', 'Actor2Code', 'AvgTone','GoldsteinScale', 'CAMEOCodeDescription','NumArticles']]\n",
    "cond = ['BLR', 'UKR']\n",
    "data = data[data['Actor1Code'].isin(set(cond))]\n",
    "data = data[data['Actor2Code'].isin(set(cond))]\n",
    "value_list = data.values.tolist()\n",
    "\n",
    "f = open('BLRgdelt_210701_210731.txt', 'w') #저장할 파일명 변경\n",
    "for i in value_list:\n",
    "    i = str(i)\n",
    "    f.write(i+'\\n')\n",
    "f.close()"
   ]
  },
  {
   "cell_type": "code",
   "execution_count": 119,
   "metadata": {},
   "outputs": [],
   "source": [
    "import gdelt\n",
    "\n",
    "gd = gdelt.gdelt(version=2)\n",
    "\n",
    "results = gd.Search(['2022 08 01','2022 08 31'],table='events',coverage=True,translation=False) #날짜 지정하기, 15일내로()\n",
    "\n",
    "data = results.copy()\n",
    "data = data[['GLOBALEVENTID', 'SQLDATE', 'Actor1Code', 'Actor2Code', 'AvgTone','GoldsteinScale', 'CAMEOCodeDescription','NumArticles']]\n",
    "cond = ['BLR', 'UKR']\n",
    "data = data[data['Actor1Code'].isin(set(cond))]\n",
    "data = data[data['Actor2Code'].isin(set(cond))]\n",
    "value_list = data.values.tolist()\n",
    "\n",
    "f = open('BLRgdelt_220801_220831.txt', 'w') #저장할 파일명 변경\n",
    "for i in value_list:\n",
    "    i = str(i)\n",
    "    f.write(i+'\\n')\n",
    "f.close()"
   ]
  },
  {
   "cell_type": "code",
   "execution_count": 121,
   "metadata": {},
   "outputs": [],
   "source": [
    "import gdelt\n",
    "\n",
    "gd = gdelt.gdelt(version=2)\n",
    "\n",
    "results = gd.Search(['2022 09 01','2022 09 30'],table='events',coverage=True,translation=False) #날짜 지정하기, 15일내로()\n",
    "\n",
    "data = results.copy()\n",
    "data = data[['GLOBALEVENTID', 'SQLDATE', 'Actor1Code', 'Actor2Code', 'AvgTone','GoldsteinScale', 'CAMEOCodeDescription','NumArticles']]\n",
    "cond = ['BLR', 'UKR']\n",
    "data = data[data['Actor1Code'].isin(set(cond))]\n",
    "data = data[data['Actor2Code'].isin(set(cond))]\n",
    "value_list = data.values.tolist()\n",
    "\n",
    "f = open('BLRgdelt_220901_220930.txt', 'w') #저장할 파일명 변경\n",
    "for i in value_list:\n",
    "    i = str(i)\n",
    "    f.write(i+'\\n')\n",
    "f.close()"
   ]
  },
  {
   "cell_type": "code",
   "execution_count": 120,
   "metadata": {},
   "outputs": [],
   "source": [
    "import gdelt\n",
    "\n",
    "gd = gdelt.gdelt(version=2)\n",
    "\n",
    "results = gd.Search(['2022 10 01','2022 10 31'],table='events',coverage=True,translation=False) #날짜 지정하기, 15일내로()\n",
    "\n",
    "data = results.copy()\n",
    "data = data[['GLOBALEVENTID', 'SQLDATE', 'Actor1Code', 'Actor2Code', 'AvgTone','GoldsteinScale', 'CAMEOCodeDescription','NumArticles']]\n",
    "cond = ['BLR', 'UKR']\n",
    "data = data[data['Actor1Code'].isin(set(cond))]\n",
    "data = data[data['Actor2Code'].isin(set(cond))]\n",
    "value_list = data.values.tolist()\n",
    "\n",
    "f = open('BLRgdelt_221001_221031.txt', 'w') #저장할 파일명 변경\n",
    "for i in value_list:\n",
    "    i = str(i)\n",
    "    f.write(i+'\\n')\n",
    "f.close()"
   ]
  },
  {
   "cell_type": "code",
   "execution_count": 112,
   "metadata": {},
   "outputs": [],
   "source": [
    "import gdelt\n",
    "\n",
    "gd = gdelt.gdelt(version=2)\n",
    "\n",
    "results = gd.Search(['2021 11 01','2021 11 30'],table='events',coverage=True,translation=False) #날짜 지정하기, 15일내로()\n",
    "\n",
    "data = results.copy()\n",
    "data = data[['GLOBALEVENTID', 'SQLDATE', 'Actor1Code', 'Actor2Code', 'AvgTone','GoldsteinScale', 'CAMEOCodeDescription','NumArticles']]\n",
    "cond = ['BLR', 'UKR']\n",
    "data = data[data['Actor1Code'].isin(set(cond))]\n",
    "data = data[data['Actor2Code'].isin(set(cond))]\n",
    "value_list = data.values.tolist()\n",
    "\n",
    "f = open('BLRgdelt_211101_211130.txt', 'w') #저장할 파일명 변경\n",
    "for i in value_list:\n",
    "    i = str(i)\n",
    "    f.write(i+'\\n')\n",
    "f.close()"
   ]
  },
  {
   "cell_type": "code",
   "execution_count": 122,
   "metadata": {},
   "outputs": [],
   "source": [
    "import gdelt\n",
    "\n",
    "gd = gdelt.gdelt(version=2)\n",
    "\n",
    "results = gd.Search(['2021 12 01','2021 12 31'],table='events',coverage=True,translation=False) #날짜 지정하기, 15일내로()\n",
    "\n",
    "data = results.copy()\n",
    "data = data[['GLOBALEVENTID', 'SQLDATE', 'Actor1Code', 'Actor2Code', 'AvgTone','GoldsteinScale', 'CAMEOCodeDescription','NumArticles']]\n",
    "cond = ['BLR', 'UKR']\n",
    "data = data[data['Actor1Code'].isin(set(cond))]\n",
    "data = data[data['Actor2Code'].isin(set(cond))]\n",
    "value_list = data.values.tolist()\n",
    "\n",
    "f = open('BLRgdelt_211201_211231.txt', 'w') #저장할 파일명 변경\n",
    "for i in value_list:\n",
    "    i = str(i)\n",
    "    f.write(i+'\\n')\n",
    "f.close()"
   ]
  },
  {
   "cell_type": "code",
   "execution_count": 70,
   "metadata": {},
   "outputs": [
    {
     "data": {
      "text/plain": [
       "'C:\\\\Users\\\\yukir\\\\Documents\\\\Monicas_workspace\\\\gdelt_extrac\\\\KAZ_RUS'"
      ]
     },
     "execution_count": 70,
     "metadata": {},
     "output_type": "execute_result"
    }
   ],
   "source": [
    "/pwd"
   ]
  },
  {
   "cell_type": "code",
   "execution_count": null,
   "metadata": {},
   "outputs": [],
   "source": []
  },
  {
   "cell_type": "markdown",
   "metadata": {},
   "source": [
    "### merge"
   ]
  },
  {
   "cell_type": "code",
   "execution_count": 127,
   "metadata": {},
   "outputs": [
    {
     "name": "stdout",
     "output_type": "stream",
     "text": [
      "C:\\Users\\yukir\\Documents\\Monicas_workspace\\gdelt_extrac\\KAZ_UKR\n"
     ]
    }
   ],
   "source": [
    "%cd C:\\Users\\yukir\\Documents\\Monicas_workspace\\gdelt_extrac\\KAZ_UKR"
   ]
  },
  {
   "cell_type": "code",
   "execution_count": 67,
   "metadata": {},
   "outputs": [],
   "source": [
    "import pandas as pd"
   ]
  },
  {
   "cell_type": "code",
   "execution_count": 130,
   "metadata": {},
   "outputs": [],
   "source": [
    "folder_path = \"C:\\\\Users\\\\yukir\\\\Documents\\\\Monicas_workspace\\\\gdelt_extrac\\\\KAZ_UKR\\\\22\\\\\"\n",
    "import os\n",
    "\n",
    "file_list = os.listdir(folder_path)\n",
    "\n",
    "GlobaleventsId = []\n",
    "Sqldates = [] \n",
    "Actor1Code = [] \n",
    "Actor2Code = [] \n",
    "AvgTone = []\n",
    "GoldsteinScale = [] \n",
    "CAMEOCodeDescription =[]\n",
    "NumArticles = []\n",
    "\n",
    "for i in file_list:\n",
    "    path = folder_path+i\n",
    "    f = open(path, 'r')\n",
    "    lines = f.readlines()\n",
    "    for line in lines:\n",
    "        line = line.replace('\\n','').replace('[','').replace(']','').replace(\"'\",'').split(',')\n",
    "        GlobaleventsId.append(line[0])\n",
    "        Sqldates.append(line[1])\n",
    "        Actor1Code.append(line[2])\n",
    "        Actor2Code.append(line[3])\n",
    "        AvgTone.append(line[4])\n",
    "        GoldsteinScale.append(line[5])\n",
    "        CAMEOCodeDescription.append(line[6])\n",
    "        NumArticles.append(line[7])\n",
    "\n",
    "df = pd.DataFrame({'GlobaleventsId':GlobaleventsId, 'Sqldates':Sqldates, 'Actor1Code':Actor1Code, 'Actor2Code':Actor2Code,\\\n",
    "    'AvgTone':AvgTone, 'GoldsteinScale':GoldsteinScale, 'CAMEOCodeDescription':CAMEOCodeDescription, 'NumArticles':NumArticles })\n",
    "\n",
    "df.to_excel('KAZ_UKR_22.xlsx')"
   ]
  },
  {
   "cell_type": "code",
   "execution_count": null,
   "metadata": {},
   "outputs": [],
   "source": []
  }
 ],
 "metadata": {
  "kernelspec": {
   "display_name": "Python 3.8.11 ('crawling')",
   "language": "python",
   "name": "python3"
  },
  "language_info": {
   "codemirror_mode": {
    "name": "ipython",
    "version": 3
   },
   "file_extension": ".py",
   "mimetype": "text/x-python",
   "name": "python",
   "nbconvert_exporter": "python",
   "pygments_lexer": "ipython3",
   "version": "3.8.11"
  },
  "orig_nbformat": 4,
  "vscode": {
   "interpreter": {
    "hash": "2f1eceaeee7ce272db888c3a7c4a53fa68076ef98b13c09fb04dc1844b9fc9a9"
   }
  }
 },
 "nbformat": 4,
 "nbformat_minor": 2
}
