{
 "cells": [
  {
   "cell_type": "code",
   "execution_count": 7,
   "metadata": {},
   "outputs": [
    {
     "data": {
      "text/plain": [
       "'c:\\\\Users\\\\yukir\\\\Documents\\\\Monicas_workspace\\\\지델트\\\\gdelt_extrac'"
      ]
     },
     "execution_count": 7,
     "metadata": {},
     "output_type": "execute_result"
    }
   ],
   "source": [
    "/pwd"
   ]
  },
  {
   "cell_type": "code",
   "execution_count": 11,
   "metadata": {},
   "outputs": [],
   "source": [
    "import gdelt\n",
    "\n",
    "gd = gdelt.gdelt(version=1)\n",
    "\n",
    "results = gd.Search(['2022 01 01','2022 03 31'],table='events',coverage=True,translation=False) #날짜 지정하기, 15일내로()\n",
    "\n",
    "data = results.copy()\n",
    "data = data[['GLOBALEVENTID', 'SQLDATE', 'Actor1Code', 'Actor2Code', 'AvgTone','GoldsteinScale', 'CAMEOCodeDescription','NumArticles']]\n",
    "cond = ['BEL', 'RUS']\n",
    "data = data[data['Actor1Code'].isin(set(cond))]\n",
    "data = data[data['Actor2Code'].isin(set(cond))]\n",
    "value_list = data.values.tolist()\n",
    "\n",
    "f = open('BEL_RUS_220101_220331.txt', 'w') #저장할 파일명 변경\n",
    "for i in value_list:\n",
    "    i = str(i)\n",
    "    f.write(i+'\\n')\n",
    "f.close()"
   ]
  },
  {
   "cell_type": "code",
   "execution_count": null,
   "metadata": {},
   "outputs": [],
   "source": [
    "gd = gdelt.gdelt(version=1)\n",
    "\n",
    "results = gd.Search(['2022 04 01','2022 7 31'],table='events',coverage=True,translation=False) #날짜 지정하기, 15일내로()\n",
    "\n",
    "data = results.copy()\n",
    "data = data[['GLOBALEVENTID', 'SQLDATE', 'Actor1Code', 'Actor2Code', 'AvgTone','GoldsteinScale', 'CAMEOCodeDescription','NumArticles']]\n",
    "cond = ['BEL', 'RUS']\n",
    "data = data[data['Actor1Code'].isin(set(cond))]\n",
    "data = data[data['Actor2Code'].isin(set(cond))]\n",
    "value_list = data.values.tolist()\n",
    "\n",
    "f = open('BEL_RUS_220401_220731.txt', 'w') #저장할 파일명 변경\n",
    "for i in value_list:\n",
    "    i = str(i)\n",
    "    f.write(i+'\\n')\n",
    "f.close()"
   ]
  },
  {
   "cell_type": "code",
   "execution_count": null,
   "metadata": {},
   "outputs": [],
   "source": [
    "gd = gdelt.gdelt(version=1)\n",
    "\n",
    "results = gd.Search(['2022 08 01','2022 12 31'],table='events',coverage=True,translation=False) #날짜 지정하기, 15일내로()\n",
    "\n",
    "data = results.copy()\n",
    "data = data[['GLOBALEVENTID', 'SQLDATE', 'Actor1Code', 'Actor2Code', 'AvgTone','GoldsteinScale', 'CAMEOCodeDescription','NumArticles']]\n",
    "cond = ['BEL', 'RUS']\n",
    "data = data[data['Actor1Code'].isin(set(cond))]\n",
    "data = data[data['Actor2Code'].isin(set(cond))]\n",
    "value_list = data.values.tolist()\n",
    "\n",
    "f = open('BEL_RUS_220901_221231.txt', 'w') #저장할 파일명 변경\n",
    "for i in value_list:\n",
    "    i = str(i)\n",
    "    f.write(i+'\\n')\n",
    "f.close()"
   ]
  },
  {
   "cell_type": "code",
   "execution_count": 3,
   "metadata": {},
   "outputs": [
    {
     "data": {
      "text/plain": [
       "'c:\\\\Users\\\\yukir\\\\Documents\\\\Monicas_workspace\\\\지델트\\\\gdelt_extrac'"
      ]
     },
     "execution_count": 3,
     "metadata": {},
     "output_type": "execute_result"
    }
   ],
   "source": [
    "/pwd"
   ]
  },
  {
   "attachments": {},
   "cell_type": "markdown",
   "metadata": {},
   "source": [
    "### gdelt_v2"
   ]
  },
  {
   "cell_type": "code",
   "execution_count": 2,
   "metadata": {},
   "outputs": [],
   "source": [
    "import gdelt \n",
    "gd = gdelt.gdelt(version=2)\n",
    "\n",
    "results = gd.Search(['2022 01 01','2022 03 31'],table='events',coverage=True,translation=False) #날짜 지정하기, 15일내로()\n",
    "\n",
    "data = results.copy()\n",
    "data = data[['GLOBALEVENTID', 'SQLDATE', 'Actor1Code', 'Actor2Code', 'AvgTone','GoldsteinScale', 'CAMEOCodeDescription','NumArticles']]\n",
    "cond = ['BLR', 'RUS']\n",
    "data = data[data['Actor1Code'].isin(set(cond))]\n",
    "data = data[data['Actor2Code'].isin(set(cond))]\n",
    "value_list = data.values.tolist()\n",
    "\n",
    "f = open('202201-03 BLR_RUS.txt', 'w') #저장할 파일명 변경\n",
    "for i in value_list:\n",
    "    i = str(i)\n",
    "    f.write(i+'\\n')\n",
    "f.close()"
   ]
  },
  {
   "cell_type": "code",
   "execution_count": 4,
   "metadata": {},
   "outputs": [
    {
     "name": "stderr",
     "output_type": "stream",
     "text": [
      "c:\\Users\\yukir\\Documents\\Monicas_workspace\\지델트\\gdelt_extrac\\gdelt\\dateFuncs.py:241: UserWarning: This query will download 5856 files, and likely exhaust your memory with possibly 10s of GBs of data in this single query.Hit Ctr-C to kill this query if you do not want to continue.\n",
      "  warnings.warn(warnText)\n"
     ]
    }
   ],
   "source": [
    "import gdelt \n",
    "gd = gdelt.gdelt(version=2)\n",
    "\n",
    "results = gd.Search(['2022 04 01','2022 05 31'],table='events',coverage=True,translation=False) #날짜 지정하기, 15일내로()\n",
    "\n",
    "data = results.copy()\n",
    "data = data[['GLOBALEVENTID', 'SQLDATE', 'Actor1Code', 'Actor2Code', 'AvgTone','GoldsteinScale', 'CAMEOCodeDescription','NumArticles']]\n",
    "cond = ['BLR', 'RUS']\n",
    "data = data[data['Actor1Code'].isin(set(cond))]\n",
    "data = data[data['Actor2Code'].isin(set(cond))]\n",
    "value_list = data.values.tolist()\n",
    "\n",
    "f = open('202204-05 BLR_RUS.txt', 'w') #저장할 파일명 변경\n",
    "for i in value_list:\n",
    "    i = str(i)\n",
    "    f.write(i+'\\n')\n",
    "f.close()"
   ]
  },
  {
   "cell_type": "code",
   "execution_count": 5,
   "metadata": {},
   "outputs": [],
   "source": [
    "import gdelt \n",
    "gd = gdelt.gdelt(version=2)\n",
    "\n",
    "results = gd.Search(['2022 06 01','2022 07 31'],table='events',coverage=True,translation=False) #날짜 지정하기, 15일내로()\n",
    "\n",
    "data = results.copy()\n",
    "data = data[['GLOBALEVENTID', 'SQLDATE', 'Actor1Code', 'Actor2Code', 'AvgTone','GoldsteinScale', 'CAMEOCodeDescription','NumArticles']]\n",
    "cond = ['BLR', 'RUS']\n",
    "data = data[data['Actor1Code'].isin(set(cond))]\n",
    "data = data[data['Actor2Code'].isin(set(cond))]\n",
    "value_list = data.values.tolist()\n",
    "\n",
    "f = open('202206-07 BLR_RUS.txt', 'w') #저장할 파일명 변경\n",
    "for i in value_list:\n",
    "    i = str(i)\n",
    "    f.write(i+'\\n')\n",
    "f.close()"
   ]
  },
  {
   "cell_type": "code",
   "execution_count": null,
   "metadata": {},
   "outputs": [],
   "source": [
    "import gdelt \n",
    "gd = gdelt.gdelt(version=2)\n",
    "\n",
    "results = gd.Search(['2022 08 01','2022 10 31'],table='events',coverage=True,translation=False) #날짜 지정하기, 15일내로()\n",
    "\n",
    "data = results.copy()\n",
    "data = data[['GLOBALEVENTID', 'SQLDATE', 'Actor1Code', 'Actor2Code', 'AvgTone','GoldsteinScale', 'CAMEOCodeDescription','NumArticles']]\n",
    "cond = ['BLR', 'RUS']\n",
    "data = data[data['Actor1Code'].isin(set(cond))]\n",
    "data = data[data['Actor2Code'].isin(set(cond))]\n",
    "value_list = data.values.tolist()\n",
    "\n",
    "f = open('202208-10 BLR_RUS.txt', 'w') #저장할 파일명 변경\n",
    "for i in value_list:\n",
    "    i = str(i)\n",
    "    f.write(i+'\\n')\n",
    "f.close()"
   ]
  },
  {
   "cell_type": "code",
   "execution_count": null,
   "metadata": {},
   "outputs": [],
   "source": [
    "import gdelt \n",
    "gd = gdelt.gdelt(version=2)\n",
    "\n",
    "results = gd.Search(['2022 11 01','2022 12 31'],table='events',coverage=True,translation=False) #날짜 지정하기, 15일내로()\n",
    "\n",
    "data = results.copy()\n",
    "data = data[['GLOBALEVENTID', 'SQLDATE', 'Actor1Code', 'Actor2Code', 'AvgTone','GoldsteinScale', 'CAMEOCodeDescription','NumArticles']]\n",
    "cond = ['BLR', 'RUS']\n",
    "data = data[data['Actor1Code'].isin(set(cond))]\n",
    "data = data[data['Actor2Code'].isin(set(cond))]\n",
    "value_list = data.values.tolist()\n",
    "\n",
    "f = open('202211-12 BLR_RUS.txt', 'w') #저장할 파일명 변경\n",
    "for i in value_list:\n",
    "    i = str(i)\n",
    "    f.write(i+'\\n')\n",
    "f.close()"
   ]
  },
  {
   "cell_type": "code",
   "execution_count": null,
   "metadata": {},
   "outputs": [],
   "source": [
    "import gdelt \n",
    "gd = gdelt.gdelt(version=2)\n",
    "\n",
    "results = gd.Search(['2023 01 01','2023 03 31'],table='events',coverage=True,translation=False) #날짜 지정하기, 15일내로()\n",
    "\n",
    "data = results.copy()\n",
    "data = data[['GLOBALEVENTID', 'SQLDATE', 'Actor1Code', 'Actor2Code', 'AvgTone','GoldsteinScale', 'CAMEOCodeDescription','NumArticles']]\n",
    "cond = ['BLR', 'RUS']\n",
    "data = data[data['Actor1Code'].isin(set(cond))]\n",
    "data = data[data['Actor2Code'].isin(set(cond))]\n",
    "value_list = data.values.tolist()\n",
    "\n",
    "f = open('202301-03 BLR_RUS.txt', 'w') #저장할 파일명 변경\n",
    "for i in value_list:\n",
    "    i = str(i)\n",
    "    f.write(i+'\\n')\n",
    "f.close()"
   ]
  },
  {
   "cell_type": "code",
   "execution_count": null,
   "metadata": {},
   "outputs": [],
   "source": [
    "import gdelt \n",
    "gd = gdelt.gdelt(version=2)\n",
    "\n",
    "results = gd.Search(['2022 01 01','2022 03 31'],table='events',coverage=True,translation=False) #날짜 지정하기, 15일내로()\n",
    "\n",
    "data = results.copy()\n",
    "data = data[['GLOBALEVENTID', 'SQLDATE', 'Actor1Code', 'Actor2Code', 'AvgTone','GoldsteinScale', 'CAMEOCodeDescription','NumArticles']]\n",
    "cond = ['KAZ', 'RUS']\n",
    "data = data[data['Actor1Code'].isin(set(cond))]\n",
    "data = data[data['Actor2Code'].isin(set(cond))]\n",
    "value_list = data.values.tolist()\n",
    "\n",
    "f = open('202201-03 KAZ_RUS.txt', 'w') #저장할 파일명 변경\n",
    "for i in value_list:\n",
    "    i = str(i)\n",
    "    f.write(i+'\\n')\n",
    "f.close()"
   ]
  },
  {
   "cell_type": "code",
   "execution_count": null,
   "metadata": {},
   "outputs": [],
   "source": [
    "import gdelt \n",
    "gd = gdelt.gdelt(version=2)\n",
    "\n",
    "results = gd.Search(['2022 04 01','2022 05 31'],table='events',coverage=True,translation=False) #날짜 지정하기, 15일내로()\n",
    "\n",
    "data = results.copy()\n",
    "data = data[['GLOBALEVENTID', 'SQLDATE', 'Actor1Code', 'Actor2Code', 'AvgTone','GoldsteinScale', 'CAMEOCodeDescription','NumArticles']]\n",
    "cond = ['KAZ', 'RUS']\n",
    "data = data[data['Actor1Code'].isin(set(cond))]\n",
    "data = data[data['Actor2Code'].isin(set(cond))]\n",
    "value_list = data.values.tolist()\n",
    "\n",
    "f = open('202204-05 KAZ_RUS.txt', 'w') #저장할 파일명 변경\n",
    "for i in value_list:\n",
    "    i = str(i)\n",
    "    f.write(i+'\\n')\n",
    "f.close()"
   ]
  },
  {
   "cell_type": "code",
   "execution_count": null,
   "metadata": {},
   "outputs": [],
   "source": [
    "import gdelt \n",
    "gd = gdelt.gdelt(version=2)\n",
    "\n",
    "results = gd.Search(['2022 06 01','2022 07 31'],table='events',coverage=True,translation=False) #날짜 지정하기, 15일내로()\n",
    "\n",
    "data = results.copy()\n",
    "data = data[['GLOBALEVENTID', 'SQLDATE', 'Actor1Code', 'Actor2Code', 'AvgTone','GoldsteinScale', 'CAMEOCodeDescription','NumArticles']]\n",
    "cond = ['KAZ', 'RUS']\n",
    "data = data[data['Actor1Code'].isin(set(cond))]\n",
    "data = data[data['Actor2Code'].isin(set(cond))]\n",
    "value_list = data.values.tolist()\n",
    "\n",
    "f = open('202206-07 KAZ_RUS.txt', 'w') #저장할 파일명 변경\n",
    "for i in value_list:\n",
    "    i = str(i)\n",
    "    f.write(i+'\\n')\n",
    "f.close()"
   ]
  },
  {
   "cell_type": "code",
   "execution_count": null,
   "metadata": {},
   "outputs": [],
   "source": [
    "import gdelt \n",
    "gd = gdelt.gdelt(version=2)\n",
    "\n",
    "results = gd.Search(['2022 08 01','2022 10 31'],table='events',coverage=True,translation=False) #날짜 지정하기, 15일내로()\n",
    "\n",
    "data = results.copy()\n",
    "data = data[['GLOBALEVENTID', 'SQLDATE', 'Actor1Code', 'Actor2Code', 'AvgTone','GoldsteinScale', 'CAMEOCodeDescription','NumArticles']]\n",
    "cond = ['KAZ', 'RUS']\n",
    "data = data[data['Actor1Code'].isin(set(cond))]\n",
    "data = data[data['Actor2Code'].isin(set(cond))]\n",
    "value_list = data.values.tolist()\n",
    "\n",
    "f = open('202208-10 KAZ_RUS.txt', 'w') #저장할 파일명 변경\n",
    "for i in value_list:\n",
    "    i = str(i)\n",
    "    f.write(i+'\\n')\n",
    "f.close()"
   ]
  },
  {
   "cell_type": "code",
   "execution_count": null,
   "metadata": {},
   "outputs": [],
   "source": [
    "import gdelt \n",
    "gd = gdelt.gdelt(version=2)\n",
    "\n",
    "results = gd.Search(['2022 11 01','2022 12 31'],table='events',coverage=True,translation=False) #날짜 지정하기, 15일내로()\n",
    "\n",
    "data = results.copy()\n",
    "data = data[['GLOBALEVENTID', 'SQLDATE', 'Actor1Code', 'Actor2Code', 'AvgTone','GoldsteinScale', 'CAMEOCodeDescription','NumArticles']]\n",
    "cond = ['KAZ', 'RUS']\n",
    "data = data[data['Actor1Code'].isin(set(cond))]\n",
    "data = data[data['Actor2Code'].isin(set(cond))]\n",
    "value_list = data.values.tolist()\n",
    "\n",
    "f = open('202211-12 KAZ_RUS.txt', 'w') #저장할 파일명 변경\n",
    "for i in value_list:\n",
    "    i = str(i)\n",
    "    f.write(i+'\\n')\n",
    "f.close()"
   ]
  },
  {
   "cell_type": "code",
   "execution_count": null,
   "metadata": {},
   "outputs": [],
   "source": [
    "import gdelt \n",
    "gd = gdelt.gdelt(version=2)\n",
    "\n",
    "results = gd.Search(['2022 08 01','2022 12 31'],table='events',coverage=True,translation=False) #날짜 지정하기, 15일내로()\n",
    "\n",
    "data = results.copy()\n",
    "data = data[['GLOBALEVENTID', 'SQLDATE', 'Actor1Code', 'Actor2Code', 'AvgTone','GoldsteinScale', 'CAMEOCodeDescription','NumArticles']]\n",
    "cond = ['KAZ', 'RUS']\n",
    "data = data[data['Actor1Code'].isin(set(cond))]\n",
    "data = data[data['Actor2Code'].isin(set(cond))]\n",
    "value_list = data.values.tolist()\n",
    "\n",
    "f = open('202208-12 KAZ_RUS.txt', 'w') #저장할 파일명 변경\n",
    "for i in value_list:\n",
    "    i = str(i)\n",
    "    f.write(i+'\\n')\n",
    "f.close()"
   ]
  },
  {
   "cell_type": "code",
   "execution_count": null,
   "metadata": {},
   "outputs": [],
   "source": [
    "import gdelt \n",
    "gd = gdelt.gdelt(version=2)\n",
    "\n",
    "results = gd.Search(['2023 01 01','2023 03 31'],table='events',coverage=True,translation=False) #날짜 지정하기, 15일내로()\n",
    "\n",
    "data = results.copy()\n",
    "data = data[['GLOBALEVENTID', 'SQLDATE', 'Actor1Code', 'Actor2Code', 'AvgTone','GoldsteinScale', 'CAMEOCodeDescription','NumArticles']]\n",
    "cond = ['KAZ', 'RUS']\n",
    "data = data[data['Actor1Code'].isin(set(cond))]\n",
    "data = data[data['Actor2Code'].isin(set(cond))]\n",
    "value_list = data.values.tolist()\n",
    "\n",
    "f = open('202301-03 KAZ_RUS.txt', 'w') #저장할 파일명 변경\n",
    "for i in value_list:\n",
    "    i = str(i)\n",
    "    f.write(i+'\\n')\n",
    "f.close()"
   ]
  },
  {
   "attachments": {},
   "cell_type": "markdown",
   "metadata": {},
   "source": [
    "### TXT"
   ]
  },
  {
   "cell_type": "code",
   "execution_count": 14,
   "metadata": {},
   "outputs": [],
   "source": [
    "## txt파일 한번에 열기\n",
    "import os\n",
    "\n",
    "txt_folder = \"C:\\\\Users\\\\yukir\\\\Documents\\\\Monicas_workspace\\\\지델트\\\\gdelt_extrac\\\\BLR_RUS\\\\22\"\n",
    "file_list = os.listdir(txt_folder)\n",
    "\n",
    "txt_lines = []\n",
    "noise_lines = []\n",
    "noise_lines_v2 = []\n",
    "for i in file_list:\n",
    "    txt_path = txt_folder+'/'+i\n",
    "    f = open(txt_path,'r')\n",
    "    try:\n",
    "        lines = f.readlines()\n",
    "        try:\n",
    "            for num, line in enumerate(lines):\n",
    "                \n",
    "                ## 노이즈 제거 필요 ###\n",
    "                if 'No Description returned for CAMEO code ' in line:\n",
    "                    # print(line)\n",
    "                    noise_lines.append(line)\n",
    "                elif 'Demand release of persons or property' in line:\n",
    "                    # print(line)\n",
    "                    noise_lines.append(line)\n",
    "                elif 'Make an appeal for, request, or suggest sharing of intelligence.'in line:\n",
    "                    # print(line)\n",
    "                    noise_lines_v2.append(line)\n",
    "                elif 'Appeal for judicial cooperation' in line:\n",
    "                    # print(line)\n",
    "                    noise_lines.append(line)\n",
    "                    pass\n",
    "                elif 'or suggest sharing of intelligence'in line:\n",
    "                    print(line)\n",
    "                else:\n",
    "                    # print(line)\n",
    "                    line = line.replace('\\n','')\n",
    "                    line = line.replace('[','') # 연습\n",
    "                    line = line.replace(']','') # 연습\n",
    "                    txt_lines.append(line)\n",
    "        except:\n",
    "            print(i, num)\n",
    "        \n",
    "    except:\n",
    "        pass"
   ]
  },
  {
   "cell_type": "code",
   "execution_count": 15,
   "metadata": {},
   "outputs": [],
   "source": [
    "list_GLOBALEVENTID = []\n",
    "list_SQLDATE= [] # 리스트 만들기 연습\n",
    "list_act1 =[]\n",
    "list_act2 =[]\n",
    "list_tone = []\n",
    "list_gold = []\n",
    "list_Cameo = []\n",
    "list_numA = []\n",
    "\n",
    "for i in txt_lines:\n",
    "    i = str(i)\n",
    "    i = i.replace('\\n','')\n",
    "    i = i.replace('[','') # 연습\n",
    "    i = i.replace(']','') # 연습\n",
    "\n",
    "    ID = i.split(', ')[0]\n",
    "    list_GLOBALEVENTID.append(ID)\n",
    "    DATE = i.split(', ')[1]\n",
    "    list_SQLDATE.append(DATE)\n",
    "    ACT1 = i.split(', ')[2]\n",
    "    list_act1.append(ACT1)\n",
    "    ACT2 = i.split(', ')[3]\n",
    "    list_act2.append(ACT2)\n",
    "    TONE = i.split(', ')[4]\n",
    "    list_tone.append(TONE)\n",
    "    GOLD = i.split(', ')[5]\n",
    "    list_gold.append(GOLD)\n",
    "\n",
    "    CAMEO = i.split(\"' \")[-1].split(\" '\")[0].split(\"',\")[0] ## 이거 잘 알려주기\n",
    "    list_Cameo.append(CAMEO)\n",
    "    numA = i.split(', ')[-1]\n",
    "    list_numA.append(numA)\n"
   ]
  },
  {
   "cell_type": "code",
   "execution_count": 16,
   "metadata": {},
   "outputs": [
    {
     "data": {
      "text/html": [
       "<div>\n",
       "<style scoped>\n",
       "    .dataframe tbody tr th:only-of-type {\n",
       "        vertical-align: middle;\n",
       "    }\n",
       "\n",
       "    .dataframe tbody tr th {\n",
       "        vertical-align: top;\n",
       "    }\n",
       "\n",
       "    .dataframe thead th {\n",
       "        text-align: right;\n",
       "    }\n",
       "</style>\n",
       "<table border=\"1\" class=\"dataframe\">\n",
       "  <thead>\n",
       "    <tr style=\"text-align: right;\">\n",
       "      <th></th>\n",
       "      <th>SQLDATE</th>\n",
       "      <th>Actor1Code</th>\n",
       "      <th>Actor2Code</th>\n",
       "      <th>AvgTone</th>\n",
       "      <th>GoldsteinScale</th>\n",
       "      <th>CAMEOCodeDescription</th>\n",
       "    </tr>\n",
       "  </thead>\n",
       "  <tbody>\n",
       "    <tr>\n",
       "      <th>0</th>\n",
       "      <td>20220108</td>\n",
       "      <td>'BEL'</td>\n",
       "      <td>'RUS'</td>\n",
       "      <td>-2.87769784172662</td>\n",
       "      <td>2.8</td>\n",
       "      <td>Host a visit</td>\n",
       "    </tr>\n",
       "    <tr>\n",
       "      <th>1</th>\n",
       "      <td>20220108</td>\n",
       "      <td>'BEL'</td>\n",
       "      <td>'RUS'</td>\n",
       "      <td>-2.61172320166973</td>\n",
       "      <td>2.8</td>\n",
       "      <td>Host a visit</td>\n",
       "    </tr>\n",
       "    <tr>\n",
       "      <th>2</th>\n",
       "      <td>20220108</td>\n",
       "      <td>'RUS'</td>\n",
       "      <td>'BEL'</td>\n",
       "      <td>-2.87769784172662</td>\n",
       "      <td>1.9</td>\n",
       "      <td>Make a visit</td>\n",
       "    </tr>\n",
       "    <tr>\n",
       "      <th>3</th>\n",
       "      <td>20220108</td>\n",
       "      <td>'RUS'</td>\n",
       "      <td>'BEL'</td>\n",
       "      <td>-2.61172320166973</td>\n",
       "      <td>1.9</td>\n",
       "      <td>Make a visit</td>\n",
       "    </tr>\n",
       "    <tr>\n",
       "      <th>4</th>\n",
       "      <td>20220108</td>\n",
       "      <td>'BEL'</td>\n",
       "      <td>'RUS'</td>\n",
       "      <td>-2.56739409499358</td>\n",
       "      <td>2.8</td>\n",
       "      <td>Host a visit</td>\n",
       "    </tr>\n",
       "  </tbody>\n",
       "</table>\n",
       "</div>"
      ],
      "text/plain": [
       "    SQLDATE Actor1Code Actor2Code            AvgTone GoldsteinScale  \\\n",
       "0  20220108      'BEL'      'RUS'  -2.87769784172662            2.8   \n",
       "1  20220108      'BEL'      'RUS'  -2.61172320166973            2.8   \n",
       "2  20220108      'RUS'      'BEL'  -2.87769784172662            1.9   \n",
       "3  20220108      'RUS'      'BEL'  -2.61172320166973            1.9   \n",
       "4  20220108      'BEL'      'RUS'  -2.56739409499358            2.8   \n",
       "\n",
       "  CAMEOCodeDescription  \n",
       "0         Host a visit  \n",
       "1         Host a visit  \n",
       "2         Make a visit  \n",
       "3         Make a visit  \n",
       "4         Host a visit  "
      ]
     },
     "execution_count": 16,
     "metadata": {},
     "output_type": "execute_result"
    }
   ],
   "source": [
    "import pandas as pd\n",
    "\n",
    "# GLOBALEVENTID', 'NUMArticle는 중복데이터가 있어서 삭제\n",
    "data_set = pd.DataFrame({'SQLDATE':list_SQLDATE, 'Actor1Code':list_act1, 'Actor2Code':list_act2, 'AvgTone':list_tone, \\\n",
    "        'GoldsteinScale':list_gold, 'CAMEOCodeDescription':list_Cameo})\n",
    "data_set.head()"
   ]
  },
  {
   "cell_type": "code",
   "execution_count": 13,
   "metadata": {},
   "outputs": [],
   "source": [
    "data_set = data_set[data_set['Actor1Code']==\"'KAZ'\"]\n",
    "data_set = data_set[data_set['Actor2Code']==\"'RUS'\"]\n",
    "data_set.drop_duplicates().to_excel('2022-2023_KAZ_RUS.xlsx')"
   ]
  },
  {
   "cell_type": "code",
   "execution_count": 24,
   "metadata": {},
   "outputs": [
    {
     "name": "stdout",
     "output_type": "stream",
     "text": [
      "<class 'pandas.core.frame.DataFrame'>\n",
      "Int64Index: 3246 entries, 5 to 7564\n",
      "Data columns (total 6 columns):\n",
      " #   Column                Non-Null Count  Dtype \n",
      "---  ------                --------------  ----- \n",
      " 0   SQLDATE               3246 non-null   object\n",
      " 1   Actor1Code            3246 non-null   object\n",
      " 2   Actor2Code            3246 non-null   object\n",
      " 3   AvgTone               3246 non-null   object\n",
      " 4   GoldsteinScale        3246 non-null   object\n",
      " 5   CAMEOCodeDescription  3246 non-null   object\n",
      "dtypes: object(6)\n",
      "memory usage: 177.5+ KB\n"
     ]
    }
   ],
   "source": [
    "data.info()"
   ]
  },
  {
   "cell_type": "code",
   "execution_count": null,
   "metadata": {},
   "outputs": [],
   "source": [
    "def "
   ]
  }
 ],
 "metadata": {
  "kernelspec": {
   "display_name": "crawling",
   "language": "python",
   "name": "python3"
  },
  "language_info": {
   "codemirror_mode": {
    "name": "ipython",
    "version": 3
   },
   "file_extension": ".py",
   "mimetype": "text/x-python",
   "name": "python",
   "nbconvert_exporter": "python",
   "pygments_lexer": "ipython3",
   "version": "3.8.11"
  },
  "orig_nbformat": 4,
  "vscode": {
   "interpreter": {
    "hash": "2f1eceaeee7ce272db888c3a7c4a53fa68076ef98b13c09fb04dc1844b9fc9a9"
   }
  }
 },
 "nbformat": 4,
 "nbformat_minor": 2
}
